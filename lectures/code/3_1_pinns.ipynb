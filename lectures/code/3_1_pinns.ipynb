{
 "cells": [
  {
   "cell_type": "code",
   "execution_count": null,
   "id": "90b8eae0-e994-4722-80ee-bf60086cfd1c",
   "metadata": {},
   "outputs": [],
   "source": [
    "import tensorflow as tf\n",
    "import numpy as np\n",
    "import matplotlib.pylab as plt"
   ]
  },
  {
   "cell_type": "markdown",
   "id": "87bacd99-306c-46a3-b1e1-34837eba4dc0",
   "metadata": {},
   "source": [
    "Let's try to solve the wave equation using PINNs, \n",
    "$$\n",
    "\\begin{matrix}\n",
    "\\partial_t u + \\partial_x u =0, & x \\in [0,1], t \\in [0,1]\\\\\n",
    "u = 0 & x=0\\\\\n",
    "u(x,t=0) = \\exp(-4(x-0.3)^2) & x \\in [0.2,0.5]\\\\\n",
    "u(x,t=0) = 0  & x<0.1\\textrm{ or }x>0.5\\\\\n",
    "\\end{matrix}\n",
    "$$\n"
   ]
  },
  {
   "cell_type": "code",
   "execution_count": null,
   "id": "75e0b5ce-e659-4d71-a2ac-8cc690810789",
   "metadata": {},
   "outputs": [],
   "source": [
    "#Create a grid of points for the full domain and separate them into\n",
    "#interior, boundary, and initial condition points\n",
    "\n",
    "#creates a 2d grid in [0,1]x[0,1] with 100 points in each direction. W\n",
    "xt_ = np.mgrid[0:1:100j,0:1:100j].astype('float32')"
   ]
  },
  {
   "cell_type": "code",
   "execution_count": null,
   "id": "212de1ca-08ed-4025-b2a1-c985bc4fa038",
   "metadata": {},
   "outputs": [],
   "source": [
    "#let's reorder this so the points are all in the first dimensino\n",
    "xt_.shape"
   ]
  },
  {
   "cell_type": "code",
   "execution_count": null,
   "id": "70eae9d3-19a6-4ef1-8e65-64e8f38d24cc",
   "metadata": {},
   "outputs": [],
   "source": [
    "#all points are now in the first dimension. Let's treat the first dimension as \n",
    "#space and the second as time\n",
    "xt = np.reshape(np.transpose(xt_,(1,2,0)),(-1,2))"
   ]
  },
  {
   "cell_type": "code",
   "execution_count": null,
   "id": "88923410-8615-4a3a-8f5e-783180990c06",
   "metadata": {},
   "outputs": [],
   "source": [
    "#these points are in the boundary\n",
    "isbc = xt[:,0]<1e-4\n",
    "#these points are at the initial condition\n",
    "isic = xt[:,1]<1e-4\n",
    "\n",
    "#these points are in the interior\n",
    "isinterior = np.logical_and(np.logical_not(isic),np.logical_not(isbc))\n",
    "\n",
    "xt_bc = xt[isbc]\n",
    "xt_ic = xt[isic]\n",
    "xt_interior = xt[isinterior]"
   ]
  },
  {
   "cell_type": "code",
   "execution_count": null,
   "id": "b6ba5e48-1b58-42e7-90a5-0639dc4639e4",
   "metadata": {},
   "outputs": [],
   "source": [
    "#plot of collocation points in space time\n",
    "plt.scatter(*xt_bc.T)\n",
    "plt.scatter(*xt_ic.T)\n",
    "plt.scatter(*xt_interior.T)"
   ]
  },
  {
   "cell_type": "code",
   "execution_count": null,
   "id": "0ec5b911-c467-485e-961b-e92a99c203c3",
   "metadata": {},
   "outputs": [],
   "source": [
    "#Makes a neural network to represent the solution\n",
    "u = tf.keras.models.Sequential([\n",
    "    tf.keras.layers.Input(2,),\n",
    "    tf.keras.layers.Dense(10,activation='elu'),\n",
    "    tf.keras.layers.Dense(10,activation='elu'),\n",
    "    tf.keras.layers.Dense(10,activation='elu'),\n",
    "    tf.keras.layers.Dense(10,activation='elu'),\n",
    "    tf.keras.layers.Dense(1),\n",
    "])\n",
    "u.summary()"
   ]
  },
  {
   "cell_type": "code",
   "execution_count": null,
   "id": "b990cd5e-66fa-4f89-bcea-0ec8619814cf",
   "metadata": {},
   "outputs": [],
   "source": [
    "#our 'solution' before training\n",
    "plt.imshow(np.reshape(u(xt),(100,100)).T,extent=[0,1,0,1],origin='lower')\n",
    "plt.xlabel('$x$')\n",
    "plt.ylabel('$t$')\n",
    "cb = plt.colorbar()\n",
    "cb.set_label('$u$')"
   ]
  },
  {
   "cell_type": "code",
   "execution_count": null,
   "id": "05d0dc94-cfd8-43de-a600-f00d4c7e2638",
   "metadata": {},
   "outputs": [],
   "source": [
    "#PDE residual. A couple tricks here,\n",
    "#1) tape.gradient actually computes \\sum(u_) w.r.t. xt. Since each u_ at a point only \n",
    "#depends on the (x,t) at that point, computing the gradient of the sum effectively \n",
    "#computes (\\partial_x u,\\partial_t u) at each point. \n",
    "#2) We take the sum over the last axis to get (\\partial_x u + \\partial_t u) at each point\n",
    "#This is the per collocation point residual. We take the some of squares to get the \n",
    "#residual for the interior of the domain\n",
    "\n",
    "#Note that you can pass numpy tensors to a tf.function and still use GradientTape against them inside\n",
    "\n",
    "@tf.function\n",
    "def PDE_res(xt):\n",
    "    with tf.GradientTape() as tape:\n",
    "        tape.watch(xt)\n",
    "        u_ = u(xt)\n",
    "    return tf.reduce_sum(tf.reduce_sum(tape.gradient(u_,xt),axis=-1)**2)\n",
    "PDE_res(xt_interior)"
   ]
  },
  {
   "cell_type": "code",
   "execution_count": null,
   "id": "48c65f56-8a40-4362-9c37-eda14b231460",
   "metadata": {},
   "outputs": [],
   "source": [
    "#At t=0, we'd like to match the function\n",
    "\n",
    "def IC(x):\n",
    "    return \\\n",
    "      (1. - tf.cast(x<.1,tf.float32)) \\\n",
    "    * (1. - tf.cast(x>.5,tf.float32)) \\\n",
    "    * tf.cast(x>=.1,tf.float32)*tf.cast(x<=.5,tf.float32) * (tf.exp(-64*(x-0.3)**2))\n",
    "    \n",
    "plt.plot(xt_ic[:,0],IC(xt_ic[:,0]))\n",
    "plt.xlabel('x')\n",
    "plt.ylabel('$u(x,t=0)$')"
   ]
  },
  {
   "cell_type": "code",
   "execution_count": null,
   "id": "f117ebdc-8c8c-44ce-b661-1faec571fe97",
   "metadata": {},
   "outputs": [],
   "source": [
    "#IC residual\n",
    "def IC_res(xt):\n",
    "    return tf.reduce_sum((IC(xt[:,0]) - u(xt)[:,0])**2)\n",
    "\n",
    "#Similarly, we'd like the solution to equal 0 at the left BC.\n",
    "#We'll penalize against nonzero sum of squares\n",
    "\n",
    "def BC_res(xt):\n",
    "    return tf.reduce_sum(u(xt)**2)\n",
    "    "
   ]
  },
  {
   "cell_type": "code",
   "execution_count": null,
   "id": "2920253a-c541-4059-b640-43eb4d06ac4d",
   "metadata": {},
   "outputs": [],
   "source": [
    "#Combined residual. We can also add weighting to each term\n",
    "\n",
    "alpha= 100.\n",
    "beta = 1.\n",
    "@tf.function\n",
    "def res():\n",
    "    return PDE_res(xt_interior) + alpha*IC_res(xt_ic) + beta*BC_res(xt_bc)\n",
    "\n"
   ]
  },
  {
   "cell_type": "code",
   "execution_count": null,
   "id": "bbe59e7d-8483-4ffc-b459-d8b96a97e544",
   "metadata": {},
   "outputs": [],
   "source": [
    "opt = tf.keras.optimizers.Adam(1e-3)\n",
    "@tf.function\n",
    "def train():\n",
    "    with tf.GradientTape() as tape:\n",
    "        tape.watch(u.trainable_variables)\n",
    "        res_ = res()\n",
    "    grad_ = tape.gradient(res_,u.trainable_variables)\n",
    "    opt.apply_gradients(zip(grad_,u.trainable_variables))\n",
    "    return res_"
   ]
  },
  {
   "cell_type": "code",
   "execution_count": null,
   "id": "bad2ada9-7b76-442c-91c7-6592ce2d5d14",
   "metadata": {
    "scrolled": true
   },
   "outputs": [],
   "source": [
    "for _ in range(1000):\n",
    "    print(train().numpy())"
   ]
  },
  {
   "cell_type": "code",
   "execution_count": null,
   "id": "e0129678-630d-4711-abee-68a8c2099df5",
   "metadata": {},
   "outputs": [],
   "source": [
    "#our solution after training\n",
    "plt.imshow(np.reshape(u(xt),(100,100)).T,extent=[0,1,0,1],origin='lower')\n",
    "plt.xlabel('$x$')\n",
    "plt.ylabel('$t$')\n",
    "cb = plt.colorbar()\n",
    "cb.set_label('$u$')"
   ]
  },
  {
   "cell_type": "markdown",
   "id": "e1b6275d-6355-44c4-9ed9-e819f17682c8",
   "metadata": {},
   "source": [
    "# PINNs inverse problem\n",
    "\n",
    "This time, let's infer the wave speed, $c$,\n",
    "\n",
    "$$\n",
    "\\begin{matrix}\n",
    "\\partial_t u + c\\partial_x u =0, & x \\in (0,1], t \\in (0,1]\\\\\n",
    "u = 0 & x=0\\\\\n",
    "u(x,t=0) = \\exp(-4(x-0.3)^2) & x \\in [0.2,0.5]\\\\\n",
    "u(x,t=0) = 0  & x<0.1\\textrm{ or }x>0.5\\\\\n",
    "\\end{matrix}\n",
    "$$\n",
    "\n",
    "given sythetic data (analytical solution using $c=0.5$ at some random points)"
   ]
  },
  {
   "cell_type": "code",
   "execution_count": null,
   "id": "b8b90bcf-edfc-402e-bedc-86a3b5ddbd23",
   "metadata": {},
   "outputs": [],
   "source": [
    "#Makes a neural network to represent the solution\n",
    "u = tf.keras.models.Sequential([\n",
    "    tf.keras.layers.Input(2,),\n",
    "    tf.keras.layers.Dense(10,activation='elu'),\n",
    "    tf.keras.layers.Dense(10,activation='elu'),\n",
    "    tf.keras.layers.Dense(10,activation='elu'),\n",
    "    tf.keras.layers.Dense(10,activation='elu'),\n",
    "    tf.keras.layers.Dense(1),\n",
    "])\n",
    "u.summary()"
   ]
  },
  {
   "cell_type": "code",
   "execution_count": null,
   "id": "c9990a1e-2025-4a53-822c-6a264f320e88",
   "metadata": {},
   "outputs": [],
   "source": [
    "#IC residual\n",
    "\n",
    "def IC_res(xt):\n",
    "    return tf.reduce_sum((IC(xt[:,0]) - u(xt)[:,0])**2)\n",
    "\n",
    "#Similarly, we'd like the solution to equal 0 at the left BC.\n",
    "#We'll penalize against nonzero sum of squares\n",
    "\n",
    "def BC_res(xt):\n",
    "    return tf.reduce_sum(u(xt)**2)\n",
    "\n",
    "def data_res(xt_random):\n",
    "    u_true = IC(xt[:,0]-.5*xt[:,1])\n",
    "    return tf.reduce_sum((u(xt_random)[...,0] - u_true)**2)\n",
    "\n",
    "# Speed we're trying to infer. Initialize at 1\n",
    "c_tf = tf.Variable(1.)\n",
    "@tf.function\n",
    "def PDE_res(xt,c_tf):\n",
    "    with tf.GradientTape() as tape:\n",
    "        tape.watch(xt)\n",
    "        u_ = u(xt)\n",
    "    return tf.reduce_sum(tf.reduce_sum(tape.gradient(u_,xt)*[c_tf,1.],axis=-1)**2)\n"
   ]
  },
  {
   "cell_type": "code",
   "execution_count": null,
   "id": "019a3c59-17d4-4484-9c6a-17c850bf6cfc",
   "metadata": {},
   "outputs": [],
   "source": [
    "#Combined residual. We can also add weighting to each term\n",
    "\n",
    "alpha= 1.\n",
    "beta = 1.\n",
    "gamma = 10.\n",
    "@tf.function\n",
    "def res(c_tf):\n",
    "    xt_random = np.random.uniform(0,1,(100,2)).astype('float32')\n",
    "    return PDE_res(xt_interior,c_tf) + alpha*IC_res(xt_ic) + beta*BC_res(xt_bc) + gamma*data_res(xt)"
   ]
  },
  {
   "cell_type": "code",
   "execution_count": null,
   "id": "efa6011f-e1a5-46fc-aff7-2322908e3372",
   "metadata": {},
   "outputs": [],
   "source": [
    "opt = tf.keras.optimizers.Adam(1e-3)\n",
    "@tf.function\n",
    "def train():\n",
    "    with tf.GradientTape() as tape:\n",
    "        tape.watch(u.trainable_variables+[c_tf])\n",
    "        res_ = res(c_tf)\n",
    "    grad_ = tape.gradient(res_,u.trainable_variables+[c_tf])\n",
    "    opt.apply_gradients(zip(grad_,u.trainable_variables+[c_tf]))\n",
    "    return res_"
   ]
  },
  {
   "cell_type": "code",
   "execution_count": null,
   "id": "c6a0535a-a787-40ad-82d3-5ca24401e810",
   "metadata": {
    "scrolled": true
   },
   "outputs": [],
   "source": [
    "for _ in range(1000):\n",
    "    print(train().numpy())"
   ]
  },
  {
   "cell_type": "code",
   "execution_count": null,
   "id": "fcf32c1d-53c3-4251-a13e-3375257c2003",
   "metadata": {},
   "outputs": [],
   "source": [
    "print('PINNs inferred speed, ',c_tf)"
   ]
  },
  {
   "cell_type": "code",
   "execution_count": null,
   "id": "16e9a82a-f861-4682-80f0-5ddd9f54fc95",
   "metadata": {},
   "outputs": [],
   "source": [
    "#our solution after training\n",
    "plt.imshow(np.reshape(u(xt),(100,100)).T,extent=[0,1,0,1],origin='lower')\n",
    "plt.xlabel('$x$')\n",
    "plt.ylabel('$t$')\n",
    "cb = plt.colorbar()\n",
    "cb.set_label('$u$')"
   ]
  },
  {
   "cell_type": "code",
   "execution_count": null,
   "id": "95586b02-7c84-440b-9115-fde78e3f07e4",
   "metadata": {},
   "outputs": [],
   "source": [
    "u_true = IC(xt[:,0]-.5*xt[:,1])\n",
    "plt.scatter(*xt.T,c=u_true);plt.colorbar()"
   ]
  }
 ],
 "metadata": {
  "kernelspec": {
   "display_name": "Python 3 (ipykernel)",
   "language": "python",
   "name": "python3"
  },
  "language_info": {
   "codemirror_mode": {
    "name": "ipython",
    "version": 3
   },
   "file_extension": ".py",
   "mimetype": "text/x-python",
   "name": "python",
   "nbconvert_exporter": "python",
   "pygments_lexer": "ipython3",
   "version": "3.10.11"
  }
 },
 "nbformat": 4,
 "nbformat_minor": 5
}
