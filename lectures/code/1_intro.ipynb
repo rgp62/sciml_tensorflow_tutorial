{
 "cells": [
  {
   "cell_type": "markdown",
   "id": "ea387b89",
   "metadata": {},
   "source": [
    "# Intro: Jupyter notebook and Tensorflow example"
   ]
  },
  {
   "cell_type": "markdown",
   "id": "f7672d02",
   "metadata": {},
   "source": [
    "Jupyter notebooks let you mix code with documentation\n",
    "\n",
    "Let's use Tensorflow's autodiff take the derivative of $2x$ with respect to $x$ at $x=1$"
   ]
  },
  {
   "cell_type": "code",
   "execution_count": null,
   "id": "4b55e939",
   "metadata": {},
   "outputs": [],
   "source": [
    "import numpy as np\n",
    "import matplotlib.pylab as plt\n",
    "import tensorflow as tf"
   ]
  },
  {
   "cell_type": "markdown",
   "id": "7a7ac409",
   "metadata": {},
   "source": [
    "We define a tensor for $x$ and use GradientTape in eager-mode to compute the derivative"
   ]
  },
  {
   "cell_type": "code",
   "execution_count": null,
   "id": "dc155edd",
   "metadata": {},
   "outputs": [],
   "source": [
    "x = tf.constant(1.)\n",
    "with tf.GradientTape() as tape:\n",
    "    tape.watch(x)\n",
    "    twox = 2*x\n",
    "tape.gradient(twox,x)"
   ]
  }
 ],
 "metadata": {
  "kernelspec": {
   "display_name": "Python 3 (ipykernel)",
   "language": "python",
   "name": "python3"
  },
  "language_info": {
   "codemirror_mode": {
    "name": "ipython",
    "version": 3
   },
   "file_extension": ".py",
   "mimetype": "text/x-python",
   "name": "python",
   "nbconvert_exporter": "python",
   "pygments_lexer": "ipython3",
   "version": "3.10.11"
  }
 },
 "nbformat": 4,
 "nbformat_minor": 5
}
