{
 "cells": [
  {
   "cell_type": "code",
   "execution_count": null,
   "id": "8eb4e238",
   "metadata": {},
   "outputs": [],
   "source": [
    "import tensorflow as tf\n",
    "import numpy as np\n",
    "import matplotlib.pylab as plt\n",
    "import tensorflow_probability as tfp\n",
    "import sympy"
   ]
  },
  {
   "cell_type": "markdown",
   "id": "c1eb91df",
   "metadata": {},
   "source": [
    "# Piecewise constant fits with increasing number of intervals"
   ]
  },
  {
   "cell_type": "code",
   "execution_count": null,
   "id": "75d27142",
   "metadata": {},
   "outputs": [],
   "source": [
    "#Plot data and true function\n",
    "x_all = np.linspace(0,1,100)\n",
    "y_true = x_all**2+.5*x_all-.5\n",
    "\n",
    "x_data = np.random.uniform(.2,.8,15)\n",
    "y_data = (x_data**2+.5*x_data-.5) + np.random.normal(0,.05,len(x_data))\n",
    "\n",
    "def plot_data():\n",
    "    plt.plot(x_all,y_true,label='True function')\n",
    "    plt.xlabel('x')\n",
    "    plt.ylabel('y')\n",
    "    plt.plot(x_data,y_data,'ro',label='Data points')\n",
    "    \n",
    "plot_data()\n",
    "plt.legend()\n",
    "\n",
    "def makePWC(nknots):\n",
    "    knots = np.linspace(0,1,nknots)\n",
    "    def makeX(x):\n",
    "        return (tf.cast(x[...,None]<knots[1:],tf.float64)*tf.cast(x[...,None]>=knots[0:-1],tf.float64))*1.\n",
    "    makeX.knots = knots\n",
    "    return makeX"
   ]
  },
  {
   "cell_type": "code",
   "execution_count": null,
   "id": "bde25755",
   "metadata": {},
   "outputs": [],
   "source": [
    "#Bayesian inference\n",
    "def inference(makeX,sig_p):\n",
    "    \n",
    "    X = makeX(x_data).numpy()\n",
    "    X_all = makeX(x_all).numpy()\n",
    "\n",
    "    sig_l = .5e-1\n",
    "\n",
    "    sig_prior_inv = np.linalg.inv(sig_p+1e-6*np.eye(sig_p.shape[0]))\n",
    "    Omega = np.linalg.inv(1./sig_l**2*X.T.dot(X) + sig_prior_inv)\n",
    "    sqrtOmega = np.linalg.cholesky(Omega+1e-6*np.eye(sig_p.shape[0]))\n",
    "    mu = Omega.dot(X.T.dot(y_data)/sig_l**2)\n",
    "    nu = X_all.dot(mu)\n",
    "    sig_y = np.eye(len(x_all))*sig_l**2+X_all.dot(Omega).dot(X_all.T)\n",
    "    sig_y_diag = np.sqrt(np.diag(sig_y))\n",
    "    plot_data()\n",
    "    plt.plot(x_all,nu,label = 'Posterior predictive mean')\n",
    "    plt.fill_between(x_all,nu-2.*sig_y_diag,nu+2.*sig_y_diag,color='C4',alpha=.3,label=r'95% confidence')\n",
    "    plt.legend()"
   ]
  },
  {
   "cell_type": "code",
   "execution_count": null,
   "id": "64d57dc5",
   "metadata": {},
   "outputs": [],
   "source": [
    "#If we don't have too many knots, we get a reasonable approximation\n",
    "nknots = 6\n",
    "prior_sig = np.eye(nknots-1)\n",
    "inference(makePWC(nknots),prior_sig)"
   ]
  },
  {
   "cell_type": "code",
   "execution_count": null,
   "id": "5e81ddd5",
   "metadata": {},
   "outputs": [],
   "source": [
    "#If we add too many knots, we overfit\n",
    "nknots = 20\n",
    "prior_sig = np.eye(nknots-1)\n",
    "inference(makePWC(nknots),prior_sig)"
   ]
  },
  {
   "cell_type": "code",
   "execution_count": null,
   "id": "15b6c025",
   "metadata": {},
   "outputs": [],
   "source": [
    "#Let's make a prior assumption that the function is smooth. The coefficients for\n",
    "#piecewise constant are the function evalutations in intervals. Let's assume adjacent \n",
    "#intervals are correlated.\n",
    "nknots = 20\n",
    "makeX = makePWC(nknots)\n",
    "\n",
    "x = (makeX.knots[1:]+makeX.knots[0:-1])/2\n",
    "sig_p=np.exp(-50*(x[:,None]-x[None])**2)"
   ]
  },
  {
   "cell_type": "code",
   "execution_count": null,
   "id": "82c73ee6",
   "metadata": {},
   "outputs": [],
   "source": [
    "inference(makeX,sig_p)"
   ]
  },
  {
   "cell_type": "code",
   "execution_count": null,
   "id": "c6004229-b879-4db4-bcb5-84fe6b87df2d",
   "metadata": {},
   "outputs": [],
   "source": []
  }
 ],
 "metadata": {
  "kernelspec": {
   "display_name": "Python 3 (ipykernel)",
   "language": "python",
   "name": "python3"
  },
  "language_info": {
   "codemirror_mode": {
    "name": "ipython",
    "version": 3
   },
   "file_extension": ".py",
   "mimetype": "text/x-python",
   "name": "python",
   "nbconvert_exporter": "python",
   "pygments_lexer": "ipython3",
   "version": "3.10.11"
  }
 },
 "nbformat": 4,
 "nbformat_minor": 5
}
