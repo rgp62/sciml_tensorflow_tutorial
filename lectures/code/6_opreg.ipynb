{
 "cells": [
  {
   "cell_type": "code",
   "execution_count": null,
   "id": "264f824c",
   "metadata": {},
   "outputs": [],
   "source": [
    "import tensorflow as tf\n",
    "import numpy as np\n",
    "import scipy\n",
    "import matplotlib.pylab as plt\n",
    "import itertools\n",
    "import random\n",
    "\n",
    "import importlib\n",
    "#MOR-Physics and (unstacked) DeepONets have been implemented in opreg.py\n",
    "import opreg\n",
    "importlib.reload(opreg);"
   ]
  },
  {
   "cell_type": "markdown",
   "id": "0d70a99b-1b98-4cc3-a505-5ae28228e5ee",
   "metadata": {},
   "source": [
    "# Burgers operator using DeepONet\n",
    "\n",
    "Let's try to fit the Burgers operator on a periodic domain,\n",
    "\n",
    "\\begin{equation}\n",
    "\\partial_x u^2 = v\n",
    "\\end{equation}\n",
    "\n",
    "given pairs of $u,v$"
   ]
  },
  {
   "cell_type": "code",
   "execution_count": null,
   "id": "fa0fcc54",
   "metadata": {},
   "outputs": [],
   "source": [
    "# generate some synthetic data\n",
    "N = 256\n",
    "samps = 10\n",
    "L = 2.*np.pi\n",
    "x = np.arange(0,N)/N*L\n",
    "k = np.arange(0,N//2+1)\n",
    "def burgers(samps):\n",
    "    uh = 20*np.exp(2*np.pi*np.random.normal(0,1,(samps,N//2+1))*1.j)*scipy.special.erfc(k-3)\n",
    "    u = np.fft.irfft(uh)\n",
    "    v = np.fft.irfft(1.j*k*np.fft.rfft(u**2))\n",
    "    return u,v\n",
    "u,v = burgers(samps)\n",
    "u_test,v_test = burgers(1)"
   ]
  },
  {
   "cell_type": "code",
   "execution_count": null,
   "id": "1978b36a-47d8-45d0-94b9-1eff2a69205b",
   "metadata": {},
   "outputs": [],
   "source": [
    "#plots of a sample of u and v\n",
    "fig,ax = plt.subplots(1,2,figsize=(8,4))\n",
    "ax[0].plot(u[0])\n",
    "ax[0].set_title('$u$ sample')\n",
    "ax[1].plot(v[0])\n",
    "ax[1].set_title('$v$ sample')\n",
    "ax[1].plot()"
   ]
  },
  {
   "cell_type": "code",
   "execution_count": null,
   "id": "011a8ffd-075b-44d0-aa5e-ec4482f827eb",
   "metadata": {},
   "outputs": [],
   "source": [
    "#creates DeepONet operator. Plots DeepONet prediction before training\n",
    "\n",
    "#trick for enforcing periodicity\n",
    "y = np.stack([np.cos(x),np.sin(x)],axis=1)\n",
    "\n",
    "with tf.device('/CPU:0'):\n",
    "    op = opreg.DeepONetUnstacked(64,8,N,2) #makes DeepONet operator, args:(width,depth,dim u,dim y)\n",
    "    plt.plot(v_test[0],label='true')\n",
    "    plt.plot(op(u_test,y)[0],label='prediction')\n",
    "    plt.legend()"
   ]
  },
  {
   "cell_type": "code",
   "execution_count": null,
   "id": "ddcc238f-0260-40ee-96c5-8be01ab5e8f0",
   "metadata": {},
   "outputs": [],
   "source": [
    "with tf.device('/CPU:0'):\n",
    "    # l2 loss\n",
    "    def loss():\n",
    "        return tf.reduce_sum((op(u,y) - v)**2)\n",
    "        \n",
    "    opt = tf.keras.optimizers.legacy.Adam(1e-3)\n",
    "    @tf.function\n",
    "    def train():\n",
    "        with tf.GradientTape() as tape:\n",
    "            tape.watch(op.trainable_variables)\n",
    "            loss_ = loss()\n",
    "        grad = tape.gradient(loss_,op.trainable_variables)\n",
    "        opt.apply_gradients(zip(grad,op.trainable_variables))\n",
    "        return loss_"
   ]
  },
  {
   "cell_type": "code",
   "execution_count": null,
   "id": "0da764d7-0c37-4ffc-8e61-1949d76b8752",
   "metadata": {
    "scrolled": true
   },
   "outputs": [],
   "source": [
    "for _ in range(1000):\n",
    "    print(train().numpy())"
   ]
  },
  {
   "cell_type": "code",
   "execution_count": null,
   "id": "5280dce1-9282-4b08-b6fd-3f1c208ae51f",
   "metadata": {},
   "outputs": [],
   "source": [
    "#test function vs. DeepONet prediction\n",
    "\n",
    "plt.plot(x,v[0],label='true')\n",
    "plt.plot(x,op(u,y)[0],label='prediction')\n",
    "plt.legend()"
   ]
  },
  {
   "cell_type": "markdown",
   "id": "d631a8db-f16b-4a9e-bc0e-81a299e5977f",
   "metadata": {},
   "source": [
    "# Burgers equation using MOR-Physics\n",
    "\n",
    "Let's try to recover the viscous Burgers equation. This time using MOR-Physics\n",
    "\n",
    "\\begin{aligned}\n",
    "\\partial_t u + \\partial_x u^2 = \\nu \\partial_x^2 u \\\\\n",
    "x \\in [0,2\\pi] \\textrm{ (periodic) }\n",
    "\\end{aligned}"
   ]
  },
  {
   "cell_type": "code",
   "execution_count": null,
   "id": "c6ec3dc1-a5bb-4a22-8592-1d7fac990e5f",
   "metadata": {},
   "outputs": [],
   "source": [
    "# generate some synthetic data. Plot a sample\n",
    "N = 256\n",
    "samps = 10\n",
    "L = 2.*np.pi\n",
    "x = np.arange(0,N)/N*L\n",
    "k = np.arange(0,N//2+1)\n",
    "T = 1.\n",
    "Nt = 1000\n",
    "dt = T/Nt\n",
    "def IC(samps):\n",
    "    uh = 20*np.exp(2*np.pi*np.random.normal(0,1,(samps,N//2+1))*1.j)*scipy.special.erfc(k-3)\n",
    "    u = np.fft.irfft(uh)\n",
    "    return u\n",
    "def upd(u,dt):\n",
    "    return u+dt*(-np.fft.irfft(1.j*k*np.fft.rfft(u**2) + 1e-1*k**2*np.fft.rfft(u)))\n",
    "def burgersEqn(samps,dt,Nt):\n",
    "    u = [IC(samps)]\n",
    "    for t in range(Nt):\n",
    "        u.append(upd(u[-1],dt))\n",
    "    return np.stack(u,1)\n",
    "\n",
    "u = burgersEqn(samps,dt,Nt)\n",
    "u_test = burgersEqn(samps,dt,Nt)\n",
    "plt.imshow(u_test[0],origin='lower',extent=[0,L,0,T])\n",
    "plt.colorbar()\n",
    "plt.xlabel('$x$')\n",
    "plt.ylabel('$t$')\n",
    "plt.figure()\n",
    "plt.plot(x,u_test[0,::100].T)\n",
    "plt.xlabel('x')\n",
    "plt.ylabel('u')\n",
    "\n",
    "print('data shape: ', u.shape)"
   ]
  },
  {
   "cell_type": "code",
   "execution_count": null,
   "id": "f220b1a6-249f-4890-93ae-69990480e205",
   "metadata": {},
   "outputs": [],
   "source": [
    "importlib.reload(opreg)\n",
    "\n",
    "with tf.device('/CPU:0'):\n",
    "    #creates Forward Euler parameterized with a sum of 4 MOR-Physics operators\n",
    "    op = opreg.FwdEuler(opreg.SumOPs([opreg.MORP(8,4,k) for _ in range(2)]),dt)\n",
    "    #creates forward Euler update operator\n",
    "    plt.imshow(op(u_test[0:1,0],1000).numpy()[0],origin='lower',extent=[0,L,0,T])\n",
    "    plt.colorbar()\n",
    "    plt.xlabel('$x$')\n",
    "    plt.ylabel('$t$')"
   ]
  },
  {
   "cell_type": "code",
   "execution_count": null,
   "id": "7a3c809c-cd9c-4455-873d-8c26d11bfbd1",
   "metadata": {
    "scrolled": true
   },
   "outputs": [],
   "source": [
    "with tf.device('/CPU:0'):\n",
    "    # l2 loss\n",
    "    def loss(ud):\n",
    "        Nt = ud.shape[1]\n",
    "        u0 = ud[:,0]\n",
    "        return tf.reduce_sum((op(u0,Nt-1) - ud[:,1:])**2)\n",
    "    \n",
    "    opt = tf.keras.optimizers.legacy.Adam(1e-3)\n",
    "    @tf.function\n",
    "    def train(ud):\n",
    "        with tf.GradientTape() as tape:\n",
    "            tape.watch(op.trainable_variables)\n",
    "            loss_ = loss(ud)\n",
    "        grad = tape.gradient(loss_,op.trainable_variables)\n",
    "        opt.apply_gradients(zip(grad,op.trainable_variables))\n",
    "        return loss_\n",
    "\n",
    "    epochs=10\n",
    "    batch_size = 10\n",
    "    t_train = 5\n",
    "    \n",
    "    # Cartesian product of indicies from samples and indicies from time\n",
    "    inds = np.array(list(itertools.product(np.arange(samps),np.arange(Nt-t_train))))\n",
    "    # randomized\n",
    "    np.random.shuffle(inds)\n",
    "    \n",
    "    for _ in range(epochs):\n",
    "        for b in range(len(inds)//batch_size):\n",
    "            bl = b*batch_size\n",
    "            bh = (b+1)*batch_size\n",
    "            #extract batch_size samples over t_train times\n",
    "            u0 = u[inds[bl:bh][:,0],inds[bl:bh][:,1]]\n",
    "            uNt = u[inds[bl:bh][:,0],inds[bl:bh][:,1]+t_train]\n",
    "            ubatch = np.transpose(u[inds[bl:bh][:,0],inds[bl:bh][:,1][None]+np.arange(t_train)[:,None]],(1,0,2))\n",
    "            print(train(ubatch).numpy())\n"
   ]
  },
  {
   "cell_type": "code",
   "execution_count": null,
   "id": "c74a07a6-729d-4228-a65c-270799689210",
   "metadata": {},
   "outputs": [],
   "source": [
    "# plots of predicted operator on test data\n",
    "with tf.device('/CPU:0'):\n",
    "    u_pred = op(u_test[0:1,0],1000).numpy()\n",
    "    plt.imshow(u_pred[0],origin='lower',extent=[0,L,0,T])\n",
    "    plt.colorbar()\n",
    "    plt.xlabel('$x$')\n",
    "    plt.ylabel('$t$')"
   ]
  },
  {
   "cell_type": "code",
   "execution_count": null,
   "id": "fcd4d47f-1f22-4e1d-a7d9-c9bdf9835fff",
   "metadata": {},
   "outputs": [],
   "source": [
    "fig,ax = plt.subplots(1,2,figsize=(8,4),sharex=True,sharey=True)\n",
    "ax[0].plot(x,u_test[0,::100].T)\n",
    "ax[1].plot(x,u_pred[0,::100].T)\n",
    "ax[0].set_xlabel('x')\n",
    "ax[1].set_xlabel('x')\n",
    "ax[0].set_ylabel('u')\n",
    "\n",
    "ax[0].set_title('test')\n",
    "ax[1].set_title('predicted')"
   ]
  },
  {
   "cell_type": "code",
   "execution_count": null,
   "id": "0a36eddb-d2ee-478c-893e-ad63429dca0a",
   "metadata": {},
   "outputs": [],
   "source": []
  },
  {
   "cell_type": "code",
   "execution_count": null,
   "id": "9122539b-b734-40ad-b78e-1ed037e68603",
   "metadata": {},
   "outputs": [],
   "source": []
  }
 ],
 "metadata": {
  "kernelspec": {
   "display_name": "Python 3 (ipykernel)",
   "language": "python",
   "name": "python3"
  },
  "language_info": {
   "codemirror_mode": {
    "name": "ipython",
    "version": 3
   },
   "file_extension": ".py",
   "mimetype": "text/x-python",
   "name": "python",
   "nbconvert_exporter": "python",
   "pygments_lexer": "ipython3",
   "version": "3.10.11"
  }
 },
 "nbformat": 4,
 "nbformat_minor": 5
}
