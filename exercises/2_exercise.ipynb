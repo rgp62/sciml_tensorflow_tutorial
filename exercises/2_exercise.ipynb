{
 "cells": [
  {
   "cell_type": "markdown",
   "id": "cf365809-8a9a-4331-be58-d3f098b5641f",
   "metadata": {},
   "source": [
    "# Exercise 2\n",
    "\n",
    "Fit the 2d function $y=x^Tx$ on the unit box using a neural network"
   ]
  },
  {
   "cell_type": "code",
   "execution_count": null,
   "id": "666c602b-6d2b-42e5-8718-3823684c13ff",
   "metadata": {},
   "outputs": [],
   "source": [
    "import tensorflow as tf\n",
    "import numpy as np\n",
    "import matplotlib.pylab as plt"
   ]
  },
  {
   "cell_type": "code",
   "execution_count": null,
   "id": "d9cfe0ca-a652-4bc2-a59b-c32476ffd50d",
   "metadata": {},
   "outputs": [],
   "source": [
    "x = np.transpose(np.mgrid[0:1:100j,0:1:100j],(1,2,0)).astype('float32')\n",
    "y = np.einsum('...i,...i->...',x,x)"
   ]
  },
  {
   "cell_type": "code",
   "execution_count": null,
   "id": "60f8a3b7-4adf-4992-99a6-90a020fa8e2f",
   "metadata": {},
   "outputs": [],
   "source": [
    "plt.imshow(y.T,extent=[0,1,0,1],origin='lower')\n",
    "plt.xlabel('$x$')\n",
    "plt.ylabel('$y$')"
   ]
  }
 ],
 "metadata": {
  "kernelspec": {
   "display_name": "Python 3 (ipykernel)",
   "language": "python",
   "name": "python3"
  },
  "language_info": {
   "codemirror_mode": {
    "name": "ipython",
    "version": 3
   },
   "file_extension": ".py",
   "mimetype": "text/x-python",
   "name": "python",
   "nbconvert_exporter": "python",
   "pygments_lexer": "ipython3",
   "version": "3.10.11"
  }
 },
 "nbformat": 4,
 "nbformat_minor": 5
}
