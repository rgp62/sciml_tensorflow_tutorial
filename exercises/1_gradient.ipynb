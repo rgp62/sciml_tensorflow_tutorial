{
 "cells": [
  {
   "cell_type": "markdown",
   "id": "f7672d02",
   "metadata": {},
   "source": [
    "# Exercise 1\n",
    "Compute the gradient of the double dot product between 2 random matrices, $A$ and $B$, with respect to the 2nd matrix "
   ]
  },
  {
   "cell_type": "code",
   "execution_count": 1,
   "id": "4b55e939",
   "metadata": {},
   "outputs": [],
   "source": [
    "import numpy as np\n",
    "import matplotlib.pylab as plt\n",
    "import tensorflow as tf"
   ]
  },
  {
   "cell_type": "code",
   "execution_count": 2,
   "id": "dc155edd",
   "metadata": {},
   "outputs": [],
   "source": [
    "A = tf.constant(tf.random.normal((15,15)))\n",
    "B = tf.constant(tf.random.normal((15,15)))\n",
    "\n",
    "product = tf.einsum('ij,ji',A,B)"
   ]
  }
 ],
 "metadata": {
  "kernelspec": {
   "display_name": "Python 3 (ipykernel)",
   "language": "python",
   "name": "python3"
  },
  "language_info": {
   "codemirror_mode": {
    "name": "ipython",
    "version": 3
   },
   "file_extension": ".py",
   "mimetype": "text/x-python",
   "name": "python",
   "nbconvert_exporter": "python",
   "pygments_lexer": "ipython3",
   "version": "3.10.11"
  }
 },
 "nbformat": 4,
 "nbformat_minor": 5
}
