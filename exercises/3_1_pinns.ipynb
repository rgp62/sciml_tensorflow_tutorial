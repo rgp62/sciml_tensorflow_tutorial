{
 "cells": [
  {
   "cell_type": "markdown",
   "id": "c24ee287-e22f-4824-9c8c-3347e263ec57",
   "metadata": {},
   "source": [
    "# Exercise 3_1\n",
    "\n",
    "Using PINNs or CVPINNs infer, from the dataset, the viscosity parameter in the viscous Burgers equation,\n",
    "\n",
    "$$\n",
    "\\partial_t u + \\partial_x u^2 = \\nu \\partial_x^2 u\n",
    "$$\n",
    "\n",
    "Use periodic boundary conditions"
   ]
  },
  {
   "cell_type": "code",
   "execution_count": null,
   "id": "4c406fd5",
   "metadata": {},
   "outputs": [],
   "source": [
    "import tensorflow as tf\n",
    "import numpy as np\n",
    "import matplotlib.pylab as plt\n",
    "import importlib\n",
    "\n",
    "\n",
    "import data\n",
    "importlib.reload(data)"
   ]
  },
  {
   "cell_type": "code",
   "execution_count": null,
   "id": "10c104a5",
   "metadata": {},
   "outputs": [],
   "source": [
    "N = 256\n",
    "samps = 10\n",
    "L = np.pi\n",
    "x = np.arange(0,N)/N*L\n",
    "k = np.arange(0,N//2+1)\n",
    "T = 1.\n",
    "Nt = 1000\n",
    "dt = T/Nt\n",
    "\n",
    "x,t,u = data.get_ex3_1()\n",
    "plt.imshow(u,origin='lower',extent=[0,L,0,T])\n",
    "plt.colorbar()\n",
    "plt.xlabel('$x$')\n",
    "plt.ylabel('$t$')\n",
    "plt.figure()\n",
    "plt.plot(x,u[::100].T)\n",
    "plt.xlabel('x')\n",
    "plt.ylabel('u')\n"
   ]
  }
 ],
 "metadata": {
  "kernelspec": {
   "display_name": "Python 3 (ipykernel)",
   "language": "python",
   "name": "python3"
  },
  "language_info": {
   "codemirror_mode": {
    "name": "ipython",
    "version": 3
   },
   "file_extension": ".py",
   "mimetype": "text/x-python",
   "name": "python",
   "nbconvert_exporter": "python",
   "pygments_lexer": "ipython3",
   "version": "3.10.11"
  }
 },
 "nbformat": 4,
 "nbformat_minor": 5
}
