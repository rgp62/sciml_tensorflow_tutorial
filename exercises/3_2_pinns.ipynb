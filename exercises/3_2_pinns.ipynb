{
 "cells": [
  {
   "cell_type": "code",
   "execution_count": null,
   "id": "39d52466-1bc2-4f0e-8cbe-5e85171bcebf",
   "metadata": {},
   "outputs": [],
   "source": [
    "import tensorflow as tf\n",
    "import numpy as np\n",
    "import matplotlib.pylab as plt\n",
    "import data\n",
    "import importlib\n",
    "importlib.reload(data)"
   ]
  },
  {
   "cell_type": "markdown",
   "id": "ce41a045-293e-4940-bf70-6c1369d7d52c",
   "metadata": {},
   "source": [
    "# Exercise 3_2\n",
    "\n",
    "Find the unknown frequencies, $\\nu$ in the forcing using a PINN\n",
    "\n",
    "\\begin{equation}\n",
    "\\begin{matrix}\n",
    "\\nabla \\cdot \\nabla u = f = \\sin(\\nu x) +\\sin(\\nu y) & x,y \\in \\Omega = [-1,1]\\times[-1,1]\\\\\n",
    "\\nabla u\\cdot n = 0 & x,y \\in \\partial \\Omega\\\\\n",
    "u(x=0,y=0) = 0\n",
    "\\end{matrix}\n",
    "\\end{equation}"
   ]
  },
  {
   "cell_type": "code",
   "execution_count": null,
   "id": "0ace7ff5-da3b-452f-b6e6-8c3676179510",
   "metadata": {},
   "outputs": [],
   "source": [
    "# Here's the data\n",
    "xt_data,u_data = data.get_ex3_2()\n",
    "plt.scatter(*xt_data.T,c=u_data)\n",
    "plt.xlabel('x')\n",
    "plt.xlabel('y')\n",
    "cb = plt.colorbar()\n",
    "cb.set_label('u')"
   ]
  }
 ],
 "metadata": {
  "kernelspec": {
   "display_name": "Python 3 (ipykernel)",
   "language": "python",
   "name": "python3"
  },
  "language_info": {
   "codemirror_mode": {
    "name": "ipython",
    "version": 3
   },
   "file_extension": ".py",
   "mimetype": "text/x-python",
   "name": "python",
   "nbconvert_exporter": "python",
   "pygments_lexer": "ipython3",
   "version": "3.10.11"
  }
 },
 "nbformat": 4,
 "nbformat_minor": 5
}
